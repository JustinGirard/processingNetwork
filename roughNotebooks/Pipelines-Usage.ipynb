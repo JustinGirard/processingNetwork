{
 "cells": [
  {
   "cell_type": "code",
   "execution_count": 1,
   "metadata": {},
   "outputs": [],
   "source": [
    "import sys\n",
    "sys.path.append('../../')\n",
    "sys.path.append('../')\n",
    "from processingNetwork import ProcessingNode\n",
    "from processingNetwork import ProcessingNetwork\n",
    "from processingNetwork.PipeProcessingNode import PipeProcessingNode\n",
    "from processingNetwork import test\n",
    "\n",
    "import numpy as np"
   ]
  },
  {
   "cell_type": "markdown",
   "metadata": {},
   "source": [
    "# Pipes\n",
    "Pipes are like (tensor,operation,(input|output),context=None) tuples in tensorflow. Pipes combine the concept of input, output, operation, and context into one place.  In fact, when implementing a pipe, it is common to lean on several libraries to implement a well behaved function. That might be, tensorflow for a variable, tensorflow for operations, which return a tensor, distributed.dash for a cloud operation, or spark for map reduce. No matter the method, A pipe is cosidered as a well behaved sequential process that manages a logical operation in sequence."
   ]
  },
  {
   "cell_type": "code",
   "execution_count": 2,
   "metadata": {},
   "outputs": [
    {
     "ename": "KeyError",
     "evalue": "'output_echo'",
     "output_type": "error",
     "traceback": [
      "\u001b[0;31m---------------------------------------------------------------------------\u001b[0m",
      "\u001b[0;31mKeyError\u001b[0m                                  Traceback (most recent call last)",
      "\u001b[0;32m<ipython-input-2-20213323e3bd>\u001b[0m in \u001b[0;36m<module>\u001b[0;34m()\u001b[0m\n\u001b[1;32m      1\u001b[0m \u001b[0;31m# See run_tests for an exhaustive list of use cases.\u001b[0m\u001b[0;34m\u001b[0m\u001b[0;34m\u001b[0m\u001b[0m\n\u001b[0;32m----> 2\u001b[0;31m \u001b[0mtest\u001b[0m\u001b[0;34m.\u001b[0m\u001b[0mrun_tests\u001b[0m\u001b[0;34m(\u001b[0m\u001b[0;34m)\u001b[0m\u001b[0;34m\u001b[0m\u001b[0m\n\u001b[0m\u001b[1;32m      3\u001b[0m \u001b[0;31m# No errors means the Pipe framework is working as expected\u001b[0m\u001b[0;34m\u001b[0m\u001b[0;34m\u001b[0m\u001b[0m\n",
      "\u001b[0;32m~/processingNetwork/test.py\u001b[0m in \u001b[0;36mrun_tests\u001b[0;34m()\u001b[0m\n\u001b[1;32m    103\u001b[0m \u001b[0;34m\u001b[0m\u001b[0m\n\u001b[1;32m    104\u001b[0m \u001b[0;32mdef\u001b[0m \u001b[0mrun_tests\u001b[0m\u001b[0;34m(\u001b[0m\u001b[0;34m)\u001b[0m\u001b[0;34m:\u001b[0m\u001b[0;34m\u001b[0m\u001b[0m\n\u001b[0;32m--> 105\u001b[0;31m     \u001b[0msingle_node_test3\u001b[0m\u001b[0;34m(\u001b[0m\u001b[0;34m)\u001b[0m\u001b[0;34m\u001b[0m\u001b[0m\n\u001b[0m\u001b[1;32m    106\u001b[0m     \u001b[0msingle_node_test2\u001b[0m\u001b[0;34m(\u001b[0m\u001b[0;34m)\u001b[0m\u001b[0;34m\u001b[0m\u001b[0m\n\u001b[1;32m    107\u001b[0m     \u001b[0mmissing_parameter_test1\u001b[0m\u001b[0;34m(\u001b[0m\u001b[0;34m)\u001b[0m\u001b[0;34m\u001b[0m\u001b[0m\n",
      "\u001b[0;32m~/processingNetwork/test.py\u001b[0m in \u001b[0;36msingle_node_test3\u001b[0;34m()\u001b[0m\n\u001b[1;32m     96\u001b[0m \u001b[0;34m\u001b[0m\u001b[0m\n\u001b[1;32m     97\u001b[0m     \u001b[0mdata\u001b[0m \u001b[0;34m=\u001b[0m \u001b[0;34m{\u001b[0m\u001b[0mdata_id\u001b[0m\u001b[0;34m:\u001b[0m\u001b[0;34m{\u001b[0m\u001b[0;34m'first'\u001b[0m\u001b[0;34m:\u001b[0m\u001b[0;36m1\u001b[0m\u001b[0;34m,\u001b[0m\u001b[0;34m'second'\u001b[0m\u001b[0;34m:\u001b[0m\u001b[0;36m5\u001b[0m\u001b[0;34m,\u001b[0m\u001b[0;34m'third'\u001b[0m\u001b[0;34m:\u001b[0m\u001b[0;36m25\u001b[0m\u001b[0;34m}\u001b[0m\u001b[0;34m}\u001b[0m\u001b[0;34m\u001b[0m\u001b[0m\n\u001b[0;32m---> 98\u001b[0;31m     \u001b[0mout\u001b[0m \u001b[0;34m=\u001b[0m \u001b[0mpn\u001b[0m\u001b[0;34m.\u001b[0m\u001b[0mprocess\u001b[0m\u001b[0;34m(\u001b[0m\u001b[0mdata\u001b[0m\u001b[0;34m)\u001b[0m\u001b[0;34m\u001b[0m\u001b[0m\n\u001b[0m\u001b[1;32m     99\u001b[0m \u001b[0;34m\u001b[0m\u001b[0m\n\u001b[1;32m    100\u001b[0m \u001b[0;32mdef\u001b[0m \u001b[0msingle_node_help_test\u001b[0m\u001b[0;34m(\u001b[0m\u001b[0;34m)\u001b[0m\u001b[0;34m:\u001b[0m\u001b[0;34m\u001b[0m\u001b[0m\n",
      "\u001b[0;32m~/processingNetwork/ProcessingNetwork.py\u001b[0m in \u001b[0;36mprocess\u001b[0;34m(self, feature, rootIn)\u001b[0m\n\u001b[1;32m     87\u001b[0m             \u001b[0;32mfor\u001b[0m \u001b[0minstanceName\u001b[0m \u001b[0;32min\u001b[0m \u001b[0mself\u001b[0m\u001b[0;34m.\u001b[0m\u001b[0mnetworkDef\u001b[0m\u001b[0;34m.\u001b[0m\u001b[0mkeys\u001b[0m\u001b[0;34m(\u001b[0m\u001b[0;34m)\u001b[0m\u001b[0;34m:\u001b[0m\u001b[0;34m\u001b[0m\u001b[0m\n\u001b[1;32m     88\u001b[0m                 \u001b[0;31m#print(instanceName + \" called by ProcessingNetwork\")\u001b[0m\u001b[0;34m\u001b[0m\u001b[0;34m\u001b[0m\u001b[0m\n\u001b[0;32m---> 89\u001b[0;31m                 \u001b[0mfeature\u001b[0m \u001b[0;34m=\u001b[0m \u001b[0mself\u001b[0m\u001b[0;34m.\u001b[0m\u001b[0minstanceMap\u001b[0m\u001b[0;34m[\u001b[0m\u001b[0minstanceName\u001b[0m\u001b[0;34m]\u001b[0m\u001b[0;34m.\u001b[0m\u001b[0mprocess\u001b[0m\u001b[0;34m(\u001b[0m\u001b[0mfeature\u001b[0m\u001b[0;34m,\u001b[0m\u001b[0mself\u001b[0m\u001b[0;34m.\u001b[0m\u001b[0mlastFeature\u001b[0m\u001b[0;34m)\u001b[0m\u001b[0;34m\u001b[0m\u001b[0m\n\u001b[0m\u001b[1;32m     90\u001b[0m                 \u001b[0;31m#print(\"back in ProcessingNetwork\")\u001b[0m\u001b[0;34m\u001b[0m\u001b[0;34m\u001b[0m\u001b[0m\n\u001b[1;32m     91\u001b[0m                 \u001b[0;31m#print(\"call from \" + instanceName + \" has returned with feature=\")\u001b[0m\u001b[0;34m\u001b[0m\u001b[0;34m\u001b[0m\u001b[0m\n",
      "\u001b[0;32m~/processingNetwork/ProcessingNode.py\u001b[0m in \u001b[0;36mprocess\u001b[0;34m(self, feature, lastFeature)\u001b[0m\n\u001b[1;32m     47\u001b[0m \u001b[0;34m\u001b[0m\u001b[0m\n\u001b[1;32m     48\u001b[0m \u001b[0;34m\u001b[0m\u001b[0m\n\u001b[0;32m---> 49\u001b[0;31m         \u001b[0mfeature\u001b[0m\u001b[0;34m[\u001b[0m\u001b[0mself\u001b[0m\u001b[0;34m.\u001b[0m\u001b[0msettings\u001b[0m\u001b[0;34m[\u001b[0m\u001b[0;34m'name'\u001b[0m\u001b[0;34m]\u001b[0m\u001b[0;34m]\u001b[0m \u001b[0;34m=\u001b[0m  \u001b[0mself\u001b[0m\u001b[0;34m.\u001b[0m\u001b[0mdo_process\u001b[0m\u001b[0;34m(\u001b[0m\u001b[0mfeatures\u001b[0m\u001b[0;34m,\u001b[0m\u001b[0mself\u001b[0m\u001b[0;34m.\u001b[0m\u001b[0msettings\u001b[0m\u001b[0;34m)\u001b[0m\u001b[0;34m\u001b[0m\u001b[0m\n\u001b[0m\u001b[1;32m     50\u001b[0m         \u001b[0mself\u001b[0m\u001b[0;34m.\u001b[0m\u001b[0mretVal\u001b[0m\u001b[0;34m=\u001b[0m\u001b[0mfeature\u001b[0m\u001b[0;34m\u001b[0m\u001b[0m\n\u001b[1;32m     51\u001b[0m         \u001b[0;32mreturn\u001b[0m \u001b[0mself\u001b[0m\u001b[0;34m.\u001b[0m\u001b[0mretVal\u001b[0m\u001b[0;34m\u001b[0m\u001b[0m\n",
      "\u001b[0;32m~/processingNetwork/PipeProcessingNode.py\u001b[0m in \u001b[0;36mdo_process\u001b[0;34m(self, feature, context)\u001b[0m\n\u001b[1;32m    125\u001b[0m         \u001b[0moutput\u001b[0m \u001b[0;34m=\u001b[0m \u001b[0;34m{\u001b[0m\u001b[0;34m}\u001b[0m\u001b[0;34m\u001b[0m\u001b[0m\n\u001b[1;32m    126\u001b[0m         \u001b[0;32mfor\u001b[0m \u001b[0mpipe\u001b[0m \u001b[0;32min\u001b[0m \u001b[0mself\u001b[0m\u001b[0;34m.\u001b[0m\u001b[0moutputs\u001b[0m\u001b[0;34m.\u001b[0m\u001b[0mvalues\u001b[0m\u001b[0;34m(\u001b[0m\u001b[0;34m)\u001b[0m\u001b[0;34m:\u001b[0m\u001b[0;34m\u001b[0m\u001b[0m\n\u001b[0;32m--> 127\u001b[0;31m             \u001b[0moutput\u001b[0m\u001b[0;34m[\u001b[0m\u001b[0mpipe\u001b[0m\u001b[0;34m[\u001b[0m\u001b[0;34m'name'\u001b[0m\u001b[0;34m]\u001b[0m\u001b[0;34m]\u001b[0m \u001b[0;34m=\u001b[0m \u001b[0mpipe\u001b[0m\u001b[0;34m[\u001b[0m\u001b[0;34m'type'\u001b[0m\u001b[0;34m]\u001b[0m\u001b[0;34m(\u001b[0m\u001b[0mdata\u001b[0m\u001b[0;34m[\u001b[0m\u001b[0mpipe\u001b[0m\u001b[0;34m[\u001b[0m\u001b[0;34m'dependency'\u001b[0m\u001b[0;34m]\u001b[0m\u001b[0;34m]\u001b[0m\u001b[0;34m,\u001b[0m\u001b[0mcontext\u001b[0m\u001b[0;34m)\u001b[0m\u001b[0;34m\u001b[0m\u001b[0m\n\u001b[0m\u001b[1;32m    128\u001b[0m \u001b[0;34m\u001b[0m\u001b[0m\n\u001b[1;32m    129\u001b[0m         \u001b[0;32mreturn\u001b[0m \u001b[0moutput\u001b[0m\u001b[0;34m\u001b[0m\u001b[0m\n",
      "\u001b[0;32m~/processingNetwork/PipeProcessingNode.py\u001b[0m in \u001b[0;36mGeneralOutput\u001b[0;34m(tensors, context)\u001b[0m\n\u001b[1;32m     43\u001b[0m \u001b[0;31m#In general, output can be decorated with logging, saving, gating, signal amplification, and many other tasks\u001b[0m\u001b[0;34m\u001b[0m\u001b[0;34m\u001b[0m\u001b[0m\n\u001b[1;32m     44\u001b[0m \u001b[0;32mdef\u001b[0m \u001b[0mGeneralOutput\u001b[0m\u001b[0;34m(\u001b[0m\u001b[0mtensors\u001b[0m\u001b[0;34m,\u001b[0m\u001b[0mcontext\u001b[0m\u001b[0;34m=\u001b[0m \u001b[0;32mNone\u001b[0m\u001b[0;34m)\u001b[0m\u001b[0;34m:\u001b[0m\u001b[0;34m\u001b[0m\u001b[0m\n\u001b[0;32m---> 45\u001b[0;31m     \u001b[0;32mif\u001b[0m \u001b[0mcontext\u001b[0m\u001b[0;34m[\u001b[0m\u001b[0;34m'output_echo'\u001b[0m\u001b[0;34m]\u001b[0m \u001b[0;34m==\u001b[0m \u001b[0;32mTrue\u001b[0m\u001b[0;34m:\u001b[0m\u001b[0;34m\u001b[0m\u001b[0m\n\u001b[0m\u001b[1;32m     46\u001b[0m         \u001b[0mprint\u001b[0m\u001b[0;34m(\u001b[0m\u001b[0mtensors\u001b[0m\u001b[0;34m)\u001b[0m\u001b[0;34m\u001b[0m\u001b[0m\n\u001b[1;32m     47\u001b[0m     \u001b[0;32mreturn\u001b[0m \u001b[0mtensors\u001b[0m\u001b[0;34m\u001b[0m\u001b[0m\n",
      "\u001b[0;31mKeyError\u001b[0m: 'output_echo'"
     ]
    }
   ],
   "source": [
    "# See run_tests for an exhaustive list of use cases.\n",
    "test.run_tests()\n",
    "# No errors means the Pipe framework is working as expected"
   ]
  },
  {
   "cell_type": "code",
   "execution_count": 3,
   "metadata": {
    "collapsed": true
   },
   "outputs": [],
   "source": [
    "\n",
    "# An output only pipe. This pipe reads some settings, if present, and alters the tensors passed with an operation \n",
    "def MultiplyPipe(tensors,context= None):\n",
    "    \n",
    "    try:\n",
    "        multiplier = context['multiplier']\n",
    "    except:\n",
    "        multiplier = 10\n",
    "    \n",
    "    ## In general Operations should support np.array, or sets {label:np.array}\n",
    "    \n",
    "    if isinstance(tensors,dict): # Support  sets {label:np.array}\n",
    "        output = {}\n",
    "        for tkey in tensors.keys():\n",
    "            if type(tensors) is not np.ndarray:\n",
    "                tensors[tkey] = np.array(tensors[tkey])\n",
    "                output[tkey] = tensors[tkey]*multiplier\n",
    "    else: # Support np.array\n",
    "        if tensors is not None: # Support None\n",
    "            if type(tensors) is not np.ndarray:\n",
    "                tensors = np.array(tensors)\n",
    "            output = tensors*multiplier\n",
    "        else:\n",
    "            output = None\n",
    "    return output\n",
    "\n",
    "# A configuration only pipe. Alters some settings, if present, and alters the tensors passed with an operation \n",
    "def GeneralConfigure(tensors,context= None):\n",
    "    try:\n",
    "        context.update(tensors)\n",
    "    except:\n",
    "        pass\n",
    "    return context\n",
    "\n",
    "\n",
    "# An output pipe that does some processing. In this case we just output data. \n",
    "#In general, output can be decorated with logging, saving, gating, signal amplification, and many other tasks\n",
    "def GeneralOutput(tensors,context= None):\n",
    "    print(tensors)\n",
    "    return tensors\n"
   ]
  },
  {
   "cell_type": "code",
   "execution_count": 4,
   "metadata": {},
   "outputs": [],
   "source": [
    "class ExamplePipeNode(PipeProcessingNode):    \n",
    "    def pipe_construct(self):\n",
    "        self.pipes = {}\n",
    "        \n",
    "        self.pipes['parameters']= {'name':'parameters',\n",
    "                               'type': GeneralConfigure, \n",
    "                               'io':'input',\n",
    "                               'examples':[{'multiply':10},{'multiply':np.array([2,2])}],\n",
    "                               'dependency':None,\n",
    "                                }\n",
    "        self.pipes['input']= {'name':'input',\n",
    "                                 'type': MultiplyPipe, \n",
    "                                 'io':'input',\n",
    "                                 'examples':[{'a':10,'b':np.array([1,2,3])},10,np.array([2,3])],\n",
    "                                 'dependency':None,\n",
    "                                }\n",
    "\n",
    "        self.pipes['output']= {'name':'output',\n",
    "                               'type': GeneralOutput, \n",
    "                               'io':'output',\n",
    "                                'examples':[{'a':10,'b':np.array([1,2,3])},10,np.array([2,3])],\n",
    "                               'dependency':'input',\n",
    "                              }        \n",
    "        "
   ]
  },
  {
   "cell_type": "code",
   "execution_count": 6,
   "metadata": {},
   "outputs": [
    {
     "name": "stdout",
     "output_type": "stream",
     "text": [
      "inputs:  ['parameters', 'input']\n",
      "\n",
      "outputs:  ['output']\n",
      "\n",
      "Interface:  {'name': 'parameters', 'type': <function GeneralConfigure at 0x7f0a47ed7c80>, 'io': 'input', 'examples': [{'multiply': 10}, {'multiply': array([2, 2])}], 'dependency': None}\n",
      "\n",
      "Usage Examples:  [{'multiply': 10}, {'multiply': array([2, 2])}]\n",
      "\n",
      "Usage Full Example: ' parameters ':  {'multiply': 10}\n"
     ]
    }
   ],
   "source": [
    "ep = ExamplePipeNode()\n",
    "ep.pipe_help(0)\n"
   ]
  },
  {
   "cell_type": "code",
   "execution_count": 7,
   "metadata": {},
   "outputs": [
    {
     "name": "stdout",
     "output_type": "stream",
     "text": [
      "inputs:  ['parameters', 'input']\n",
      "\n",
      "outputs:  ['output']\n",
      "\n",
      "Interface:  {'name': 'input', 'type': <function MultiplyPipe at 0x7f0a47ed7d08>, 'io': 'input', 'examples': [{'a': 10, 'b': array([1, 2, 3])}, 10, array([2, 3])], 'dependency': None}\n",
      "\n",
      "Usage Examples:  [{'a': 10, 'b': array([1, 2, 3])}, 10, array([2, 3])]\n",
      "\n",
      "Usage Full Example: ' input ':  {'a': 10, 'b': array([1, 2, 3])}\n"
     ]
    }
   ],
   "source": [
    "ep.pipe_help(1)\n"
   ]
  },
  {
   "cell_type": "markdown",
   "metadata": {
    "collapsed": true
   },
   "source": [
    "## Create and run a data_driven node"
   ]
  },
  {
   "cell_type": "code",
   "execution_count": 18,
   "metadata": {},
   "outputs": [
    {
     "name": "stdout",
     "output_type": "stream",
     "text": [
      "{'a': 100, 'b': array([10, 20, 30])}\n",
      "{'parameters_in': {'multiply': 10}, 'input_in': {'a': array(10), 'b': array([1, 2, 3])}, 'default_node': {'output': {'a': 100, 'b': array([10, 20, 30])}}}\n"
     ]
    }
   ],
   "source": [
    "data_in= {'parameters_in':{'multiply': 10},\n",
    "          'input_in':  {'a': 10, 'b': np.array([1, 2, 3])}}\n",
    "ndef = {}\n",
    "hardcoded1 = 'hardcoded'\n",
    "\n",
    "## Tuples, are pointers to data in the datastream. You expect to find tagged data in the data strea,\n",
    "ndef = {}\n",
    "ndef['default_node'] = {'type': ExamplePipeNode,\n",
    "              'dependencies': {'parameters':('parameters_in',),\n",
    "                              'input':('input_in',)}\n",
    "                       }\n",
    "pn=ProcessingNetwork(ndef)\n",
    "out = pn.process(data_in)\n",
    "print(out)"
   ]
  },
  {
   "cell_type": "markdown",
   "metadata": {
    "collapsed": true
   },
   "source": [
    "## Create and run an automatic node"
   ]
  },
  {
   "cell_type": "code",
   "execution_count": 19,
   "metadata": {},
   "outputs": [
    {
     "name": "stdout",
     "output_type": "stream",
     "text": [
      "{'a': 100, 'b': array([10, 20, 30])}\n",
      "{'default_node': {'output': {'a': 100, 'b': array([10, 20, 30])}}}\n"
     ]
    }
   ],
   "source": [
    "data_in= {}\n",
    "ndef = {}\n",
    "hardcoded1 = 'hardcoded'\n",
    "\n",
    "## Tuples, are pointers to data in the datastream. You expect to find tagged data in the data strea,\n",
    "ndef = {}\n",
    "ndef['default_node'] = {'type': ExamplePipeNode,\n",
    "              'dependencies': {'parameters':{'multiply': 10},\n",
    "                              'input': {'a': 10, 'b': np.array([1, 2, 3])}}\n",
    "                       }\n",
    "pn=ProcessingNetwork(ndef)\n",
    "out = pn.process(data_in)\n",
    "print(out)"
   ]
  },
  {
   "cell_type": "code",
   "execution_count": 16,
   "metadata": {},
   "outputs": [
    {
     "name": "stdout",
     "output_type": "stream",
     "text": [
      "None\n",
      "{'default_node': {'output': None}}\n"
     ]
    }
   ],
   "source": []
  }
 ],
 "metadata": {
  "kernelspec": {
   "display_name": "Python (tensorflow)",
   "language": "python",
   "name": "tensorflow"
  },
  "language_info": {
   "codemirror_mode": {
    "name": "ipython",
    "version": 3
   },
   "file_extension": ".py",
   "mimetype": "text/x-python",
   "name": "python",
   "nbconvert_exporter": "python",
   "pygments_lexer": "ipython3",
   "version": "3.6.6"
  }
 },
 "nbformat": 4,
 "nbformat_minor": 2
}
