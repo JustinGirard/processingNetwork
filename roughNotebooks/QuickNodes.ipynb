{
 "cells": [
  {
   "cell_type": "markdown",
   "metadata": {},
   "source": [
    "# Activity\n",
    "Whether it's a short data processing app, and api layer, or a full blown distributed system, many systems follow an activity paradigm. Once you see it, you can't unsee it:\n",
    "1) An agent, or a process, works on some data\n",
    "2) There is a temporary or ephemeral nature about \"its\" data. Like a player, an instance, a stock market algorithm, or even an api call. But within that moment, that local information in critical.\n",
    "3) The ephemeral data should pass something on to the global context\n",
    "4) The global context, objects, rankings, accounts, trades, need to change\n",
    "5) The world updates, and with a new timestep, we expect notifications about all the worlds activity to flow\n",
    "6) The agent has views, and filters / searches the worlds information\n",
    "\n",
    "This loop is in many systems. Over time I have learned that much of my development activity is centered around \"scaling\" this exact loop:\n",
    "\n",
    "1) in the smallest case, I write a one file simple client / server system.\n",
    "2) Then i code up a front end, and I need to host it\n",
    "3) Suddenly I need to scale the system across a million different nodes.\n",
    "\n",
    "Moving from 1-2 is hard. It's about the same difficulty to move from 2-3. BUT, approaching every problem with (3) will increase the time of every project. If only there was a thin framework that one could adopt at (1) that would allow you to scale to (3) if that ever becomes needed.\n",
    "\n",
    "Welcome to activity. Activity is the least amount of infastructre needed at (1) to ensure your application can seamlessly scale to (3) with minimal adjustments. It enforces patterns of object orientation (encapsulation), and statless communication via an event-subscriber model. But, thankfully, it mostly works using function decorators in python. This means, the (1) version can be as simple as a few function calls\n",
    "\n",
    "Activity is built on processingNetwork, a generic processing engine that simplifies functional programming (making it feel procedural, if you squint at it.)\n",
    "\n",
    "If the script you are working on will never be (3) then it's safe to say you should just code it. If it's worth 20 minutes of planning, then refactor onto activity right away, and you will be treated later,"
   ]
  },
  {
   "cell_type": "code",
   "execution_count": 1,
   "metadata": {
    "collapsed": true
   },
   "outputs": [],
   "source": [
    "\n",
    "\n",
    "# Agent\n",
    "# ---\n",
    "# Strategy (Strategy)\n",
    "# Action Tracker (Order Tracker)\n",
    "\n",
    "# System Template\n",
    "# ----------------\n",
    "# Local Environment (Account Log)\n",
    "# World Environment (Broker View)\n",
    "\n",
    "# Pace\n",
    "# ---------\n",
    "# TimeEvent\n",
    "# Clock\n",
    "\n",
    "# View\n",
    "# -----------------\n",
    "# TimeseriesEvent (MarketDataEmitter / Order Assignment Event)\n",
    "# Filter (Filter Model)\n",
    "\n"
   ]
  },
  {
   "cell_type": "code",
   "execution_count": 7,
   "metadata": {},
   "outputs": [],
   "source": [
    "import sys\n",
    "sys.path.append('../../')\n",
    "from flex import flex\n",
    "from processingNetwork import ProcessingNode,ProcessingNetwork,QuickInputNode,QuickProcessingNode\n",
    "\n",
    "def EnvironmentNode(feature,context):\n",
    "    return \"<\"+feature+\">\"\n",
    "\n",
    "def PrintNode(feature,context):\n",
    "    print ('------------')\n",
    "    print (feature)\n",
    "    print ('------------')\n",
    "    return str(\"{\"+feature['input1']+\" | \"+feature['input2']+\"}\")\n",
    "\n",
    "nodes = flex()\n",
    "nodes['layer1'] = QuickInputNode(EnvironmentNode,('data',))\n",
    "nodes['layer2a'] = QuickInputNode(EnvironmentNode,('layer1',))\n",
    "nodes['layer2b'] = QuickInputNode(EnvironmentNode,('layer1',))\n",
    "nodes['layer3'] = QuickProcessingNode(PrintNode,{'input1':('layer2a',),'input2':('layer2b',),})\n",
    "\n",
    "pn = ProcessingNetwork(nodes)"
   ]
  },
  {
   "cell_type": "code",
   "execution_count": null,
   "metadata": {},
   "outputs": [],
   "source": []
  },
  {
   "cell_type": "markdown",
   "metadata": {},
   "source": [
    "# Result\n",
    "Ok, so a function call. Big deal right? But, as cloud developers who want to create really big complex systems, we want to be able to \"just write a function\" and \"scale to the cloud\" in the same breath. Here is how we manage our ProcessingNetwork."
   ]
  },
  {
   "cell_type": "code",
   "execution_count": 8,
   "metadata": {},
   "outputs": [
    {
     "name": "stdout",
     "output_type": "stream",
     "text": [
      "------------\n",
      "{'name': 'layer3', 'input1': '<<brian>>', 'input2': '<<brian>>'}\n",
      "------------\n",
      "'{<<brian>> | <<brian>>}'\n"
     ]
    }
   ],
   "source": [
    "import pprint\n",
    "# Process a result\n",
    "data = pn.process({'data':'brian'})\n",
    "pprint.pprint(data['layer3'])"
   ]
  },
  {
   "cell_type": "code",
   "execution_count": 9,
   "metadata": {},
   "outputs": [
    {
     "name": "stdout",
     "output_type": "stream",
     "text": [
      "{'data': 'brian',\n",
      " 'env': 'Hey brian I did some work!',\n",
      " 'env2': 'Hey Hey brian I did some work! I did some work!'}\n"
     ]
    }
   ],
   "source": [
    "# Wait, how was this made?\n",
    "pprint.pprint(data)"
   ]
  },
  {
   "cell_type": "code",
   "execution_count": 10,
   "metadata": {},
   "outputs": [
    {
     "name": "stdout",
     "output_type": "stream",
     "text": [
      "{'env': {'dependencies': {'input': ('data',)},\n",
      "         'instance': <__main__.EnvironmentNode object at 0x7f8c982d3048>,\n",
      "         'name': 'env',\n",
      "         'type': <class '__main__.EnvironmentNode'>},\n",
      " 'env2': {'dependencies': {'input': ('env',)},\n",
      "          'instance': <__main__.EnvironmentNode object at 0x7f8c982d3080>,\n",
      "          'name': 'env2',\n",
      "          'type': <class '__main__.EnvironmentNode'>}}\n"
     ]
    }
   ],
   "source": [
    "# oh! cool. Also, what network made this?\n",
    "pprint.pprint(pn.getNetworkTemplate())"
   ]
  },
  {
   "cell_type": "markdown",
   "metadata": {},
   "source": [
    "This is *almost* serializable. In fact, if we got rid of these class refrences, it would be possible to serialize everything about this experiment. To support serialization, the code can't live in a notebook -- we need to give it a home. The syntax for the serializable version is below, as an example:"
   ]
  },
  {
   "cell_type": "code",
   "execution_count": null,
   "metadata": {
    "collapsed": true
   },
   "outputs": [],
   "source": []
  }
 ],
 "metadata": {
  "kernelspec": {
   "display_name": "Python (tensorflow)",
   "language": "python",
   "name": "tensorflow"
  },
  "language_info": {
   "codemirror_mode": {
    "name": "ipython",
    "version": 3
   },
   "file_extension": ".py",
   "mimetype": "text/x-python",
   "name": "python",
   "nbconvert_exporter": "python",
   "pygments_lexer": "ipython3",
   "version": "3.6.6"
  }
 },
 "nbformat": 4,
 "nbformat_minor": 2
}
