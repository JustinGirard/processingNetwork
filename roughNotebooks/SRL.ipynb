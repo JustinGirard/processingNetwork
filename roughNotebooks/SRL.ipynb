{
 "cells": [
  {
   "cell_type": "markdown",
   "metadata": {},
   "source": [
    "# SRL\n",
    "Whether it's a short data processing app, and api layer, or a full blown distributed system, many systems follow an activity paradigm. Once you see it, you can't unsee it:\n",
    "1) An agent, or a process, works on some data\n",
    "2) There is a temporary or ephemeral nature about \"its\" data. Like a player, an instance, a stock market algorithm, or even an api call. But within that moment, that local information in critical.\n",
    "3) The ephemeral data should pass something on to the global context\n",
    "4) The global context, objects, rankings, accounts, trades, need to change\n",
    "5) The world updates, and with a new timestep, we expect notifications about all the worlds activity to flow\n",
    "6) The agent has views, and filters / searches the worlds information\n",
    "\n",
    "This loop is in many systems. Over time I have learned that much of my development activity is centered around \"scaling\" this exact loop:\n",
    "\n",
    "1) in the smallest case, I write a one file simple client / server system.\n",
    "2) Then i code up a front end, and I need to host it\n",
    "3) Suddenly I need to scale the system across a million different nodes.\n",
    "\n",
    "Moving from 1-2 is hard. It's about the same difficulty to move from 2-3. BUT, approaching every problem with (3) will increase the time of every project. If only there was a thin framework that one could adopt at (1) that would allow you to scale to (3) if that ever becomes needed.\n",
    "\n",
    "Welcome to activity. Activity is the least amount of infastructre needed at (1) to ensure your application can seamlessly scale to (3) with minimal adjustments. It enforces patterns of object orientation (encapsulation), and statless communication via an event-subscriber model. But, thankfully, it mostly works using function decorators in python. This means, the (1) version can be as simple as a few function calls\n",
    "\n",
    "Activity is built on processingNetwork, a generic processing engine that simplifies functional programming (making it feel procedural, if you squint at it.)\n",
    "\n",
    "If the script you are working on will never be (3) then it's safe to say you should just code it. If it's worth 20 minutes of planning, then refactor onto activity right away, and you will be treated later,"
   ]
  },
  {
   "cell_type": "code",
   "execution_count": 1,
   "metadata": {
    "collapsed": true
   },
   "outputs": [],
   "source": [
    "\n",
    "\n",
    "# Agent\n",
    "# ---\n",
    "# Strategy (Strategy)\n",
    "# Action Tracker (Order Tracker)\n",
    "\n",
    "# System Template\n",
    "# ----------------\n",
    "# Local Environment (Account Log)\n",
    "# World Environment (Broker View)\n",
    "\n",
    "# Pace\n",
    "# ---------\n",
    "# TimeEvent\n",
    "# Clock\n",
    "\n",
    "# View\n",
    "# -----------------\n",
    "# TimeseriesEvent (MarketDataEmitter / Order Assignment Event)\n",
    "# Filter (Filter Model)\n",
    "\n"
   ]
  },
  {
   "cell_type": "code",
   "execution_count": 28,
   "metadata": {},
   "outputs": [
    {
     "name": "stdout",
     "output_type": "stream",
     "text": [
      "{}\n",
      "[{'create': {'name': 'charles', 'x': 0, 'y': 0, 'z': 0, 'owner_id': 10, 'status': 'false', 'error': \"'object_id'\"}}]\n"
     ]
    }
   ],
   "source": [
    "import sys\n",
    "sys.path.append('../../')\n",
    "from flex import flex\n",
    "from processingNetwork import ProcessingNode,ProcessingNetwork,QuickInputNode,QuickProcessingNode,PersistanceNetwork\n",
    "\n",
    "import uuid\n",
    "class EnvironmentManager():\n",
    "    def FindObject(feature,context):\n",
    "        messages = []\n",
    "        if 'object_id' in feature:\n",
    "            if feature['object_id'] in context['objects'].keys():\n",
    "                messages.append (context['objects'][feature['object_id']])\n",
    "            else:\n",
    "                messages.append (context['objects'])            \n",
    "            return messages\n",
    "        return messages.append ({'error':'no objects found'})\n",
    "\n",
    "    \n",
    "    \n",
    "    def UpdateObjectRequest(feature,context):\n",
    "        if 'objects' not in context:\n",
    "            context['objects'] = {}\n",
    "            context['create_count'] = 0\n",
    "        objects = context['objects']\n",
    "        messages = []\n",
    "        for action in feature:\n",
    "            if action == 'create':\n",
    "                context['create_count'] = context['create_count'] + 1\n",
    "                try:\n",
    "                    obj = flex()\n",
    "                    obj.x = feature[action]['x']\n",
    "                    obj.y = feature[action]['y']\n",
    "                    obj.z = feature[action]['z']\n",
    "                    obj.owner_id = feature[action]['owner_id']\n",
    "                    if obj.object_id in objects:\n",
    "                        objects[obj.object_id].update(obj)\n",
    "                    else:\n",
    "                        obj.object_id = str(uuid.uuid4())\n",
    "                        objects[obj.object_id] = obj\n",
    "                    feature[action]['status'] = 'true'\n",
    "                    messages.append(obj)\n",
    "                except Exception as e:\n",
    "                    feature[action]['status'] = 'false'\n",
    "                    feature[action]['error'] = str(e)\n",
    "                    messages.append(feature)\n",
    "                print(context['objects'])\n",
    "        return messages\n",
    "\n",
    "feature={'create':{'name':'charles','x':0,'y':0,'z':0,'owner_id':10}}\n",
    "\n",
    "\n",
    "messages = EnvironmentManager.UpdateObjectRequest(feature={'create':{'name':'charles','x':0,'y':0,'z':0,'owner_id':10}},context={})\n",
    "print(messages )\n",
    "\n",
    "#messages = EnvironmentManager.FindObject()\n"
   ]
  },
  {
   "cell_type": "code",
   "execution_count": 33,
   "metadata": {},
   "outputs": [
    {
     "name": "stdout",
     "output_type": "stream",
     "text": [
      "{'find': {'object_id': None},\n",
      " 'layer1': [{'2b9c4130-f1fe-4cdb-8a56-24c3f87119b8': {'count': 2,\n",
      "                                                      'object_id': '2b9c4130-f1fe-4cdb-8a56-24c3f87119b8',\n",
      "                                                      'owner_id': 10,\n",
      "                                                      'x': 0,\n",
      "                                                      'y': 0,\n",
      "                                                      'z': 0},\n",
      "             '54c73c94-279f-4c0e-a41a-9fbc381e9879': {'count': 3,\n",
      "                                                      'object_id': '54c73c94-279f-4c0e-a41a-9fbc381e9879',\n",
      "                                                      'owner_id': 10,\n",
      "                                                      'x': 0,\n",
      "                                                      'y': 0,\n",
      "                                                      'z': 0},\n",
      "             '717c7665-9614-4e5a-a68b-cb9b06f2f3fb': {'count': 5,\n",
      "                                                      'object_id': '717c7665-9614-4e5a-a68b-cb9b06f2f3fb',\n",
      "                                                      'owner_id': 10,\n",
      "                                                      'x': 0,\n",
      "                                                      'y': 0,\n",
      "                                                      'z': 0},\n",
      "             '7deabfaa-7869-408b-b227-85a0d7729a16': {'count': 6,\n",
      "                                                      'object_id': '7deabfaa-7869-408b-b227-85a0d7729a16',\n",
      "                                                      'owner_id': 10,\n",
      "                                                      'x': 0,\n",
      "                                                      'y': 0,\n",
      "                                                      'z': 0},\n",
      "             '89b4a7be-3fed-4f77-b8cc-c914c9dadc8f': {'count': 1,\n",
      "                                                      'object_id': '89b4a7be-3fed-4f77-b8cc-c914c9dadc8f',\n",
      "                                                      'owner_id': 10,\n",
      "                                                      'x': 0,\n",
      "                                                      'y': 0,\n",
      "                                                      'z': 0},\n",
      "             'ab907b5d-5d8e-40cf-b7e4-11565ad95196': {'count': 4,\n",
      "                                                      'object_id': 'ab907b5d-5d8e-40cf-b7e4-11565ad95196',\n",
      "                                                      'owner_id': 10,\n",
      "                                                      'x': 0,\n",
      "                                                      'y': 0,\n",
      "                                                      'z': 0},\n",
      "             'fb7d07cb-2718-4fd2-a709-ddf0cf8ce2ca': {'count': 7,\n",
      "                                                      'object_id': 'fb7d07cb-2718-4fd2-a709-ddf0cf8ce2ca',\n",
      "                                                      'owner_id': 10,\n",
      "                                                      'x': 0,\n",
      "                                                      'y': 0,\n",
      "                                                      'z': 0}}]}\n"
     ]
    }
   ],
   "source": [
    "from conf.conf import conf\n",
    "conn = {'mongo_server':conf.get( \"jef_mongo_host\", \"\" ) ,\n",
    "        'mongo_port':conf.get( \"jef_mongo_port\",  ),\n",
    "        'mongo_username':conf.get( \"jef_mongo_username\", \"\" ),\n",
    "        'mongo_password':conf.get( \"jef_mongo_password\", \"\" ),\n",
    "        'mongo_authSource':conf.get( \"jef_mongo_authSource\", \"\" ),\n",
    "        'mongo_database':conf.get( \"jef_mongo_object_database\", \"srl\" ),\n",
    "        'mongo_collection':conf.get( \"srl_mongo_experiments_collection\", \"srl_persistance\" ) ,}       \n",
    "\n",
    "nodes = flex()\n",
    "\n",
    "#data_packet = {'data':feature}\n",
    "#nodes['layer1'] = QuickInputNode(EnvironmentManager.UpdateObjectRequest,('data',))\n",
    "#pn = PersistanceNetwork(networkDef=nodes,mongo_connection=conn,serverKey={'server_id':1})\n",
    "#data_out = pn.process(data_packet)\n",
    "#import pprint\n",
    "#pprint.pprint(data_packet)\n",
    "\n",
    "data_packet = {'find':{'object_id':'89b4a7be-3fed-4f77-b8cc-c914c9dadc8f'}}\n",
    "data_packet = {'find':{'object_id':None}}\n",
    "nodes['layer1'] = QuickInputNode(EnvironmentManager.FindObject,('find',))\n",
    "pn = PersistanceNetwork(networkDef=nodes,mongo_connection=conn,serverKey={'server_id':1})\n",
    "data_out = pn.process(data_packet)\n",
    "import pprint\n",
    "# Process a result\n",
    "pprint.pprint(data_packet)\n"
   ]
  },
  {
   "cell_type": "markdown",
   "metadata": {},
   "source": [
    "This is *almost* serializable. In fact, if we got rid of these class refrences, it would be possible to serialize everything about this experiment. To support serialization, the code can't live in a notebook -- we need to give it a home. The syntax for the serializable version is below, as an example:"
   ]
  },
  {
   "cell_type": "code",
   "execution_count": null,
   "metadata": {
    "collapsed": true
   },
   "outputs": [],
   "source": []
  }
 ],
 "metadata": {
  "kernelspec": {
   "display_name": "Python (tensorflow)",
   "language": "python",
   "name": "tensorflow"
  },
  "language_info": {
   "codemirror_mode": {
    "name": "ipython",
    "version": 3
   },
   "file_extension": ".py",
   "mimetype": "text/x-python",
   "name": "python",
   "nbconvert_exporter": "python",
   "pygments_lexer": "ipython3",
   "version": "3.6.6"
  }
 },
 "nbformat": 4,
 "nbformat_minor": 2
}
