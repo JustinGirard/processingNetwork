{
 "cells": [
  {
   "cell_type": "markdown",
   "metadata": {},
   "source": [
    "# MessageQueue\n",
    "A Simple Message queue on top of a persistant network that allows functions to pass data seamlessly. Used by processing networks to do stateless on-demand cloud processing using virtual functional networks."
   ]
  },
  {
   "cell_type": "code",
   "execution_count": 15,
   "metadata": {},
   "outputs": [],
   "source": [
    "import sys\n",
    "sys.path.append('../../')\n",
    "from processingNetwork.velocity.SimpleProcessingQueue import SimpleProcessingQueue\n"
   ]
  },
  {
   "cell_type": "code",
   "execution_count": 25,
   "metadata": {},
   "outputs": [
    {
     "name": "stdout",
     "output_type": "stream",
     "text": [
      "[{'count': 0, 'data': 'Travis', 'success': 'data retrieved successfully!'}]\n"
     ]
    }
   ],
   "source": [
    "#\n",
    "# Internal Test\n",
    "context = {}\n",
    "\n",
    "#\n",
    "# Configuration. Typically these will live in some local variables or some configuration file.\n",
    "from conf.conf import conf\n",
    "conn = {'mongo_server':conf.get( \"jef_mongo_host\", \"\" ) ,\n",
    "        'mongo_port':conf.get( \"jef_mongo_port\",  ),\n",
    "        'mongo_username':conf.get( \"jef_mongo_username\", \"\" ),\n",
    "        'mongo_password':conf.get( \"jef_mongo_password\", \"\" ),\n",
    "        'mongo_authSource':conf.get( \"jef_mongo_authSource\", \"\" ),\n",
    "        'mongo_database':conf.get( \"jef_mongo_object_database\", \"srl\" ),\n",
    "        'mongo_collection':conf.get( \"srl_mongo_experiments_collection\", \"srl_persistance\" ) ,}\n",
    "\n",
    "# Server id (Document id.). Typically this will be set on startup, and is akin to a virtual session or instance.\n",
    "server_key={'server_id':1}\n",
    "\n",
    "# Queue id. Generally many queue id's a used between asychronous processes. You should generate, track, and store the queue ids \n",
    "# you give to objects. \n",
    "queue_id = '1337'\n",
    "\n",
    "# Data. This is the data you want to pass ot a user.\n",
    "data ='Travis'\n",
    "\n",
    "#\n",
    "#\n",
    "# Push and Pull abstraction\n",
    "messages = SimpleProcessingQueue.Push (data,queue_id,conn,server_key)\n",
    "messages = SimpleProcessingQueue.Pull (queue_id,conn,server_key)\n",
    "\n",
    "import pprint\n",
    "pprint.pprint(messages)\n",
    "\n",
    "#with each push, and pull, you get data, a queue count, and success or error information. This queue system is pretty slow.\n",
    "# In future versions we wish to support redis and in memory storage. For now, the reliability of the system is more important\n",
    "# than speed.\n"
   ]
  },
  {
   "cell_type": "code",
   "execution_count": null,
   "metadata": {
    "collapsed": true
   },
   "outputs": [],
   "source": []
  }
 ],
 "metadata": {
  "kernelspec": {
   "display_name": "Python (tensorflow)",
   "language": "python",
   "name": "tensorflow"
  },
  "language_info": {
   "codemirror_mode": {
    "name": "ipython",
    "version": 3
   },
   "file_extension": ".py",
   "mimetype": "text/x-python",
   "name": "python",
   "nbconvert_exporter": "python",
   "pygments_lexer": "ipython3",
   "version": "3.6.6"
  }
 },
 "nbformat": 4,
 "nbformat_minor": 2
}
