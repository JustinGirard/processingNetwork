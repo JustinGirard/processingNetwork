{
 "cells": [
  {
   "cell_type": "code",
   "execution_count": 1,
   "metadata": {},
   "outputs": [
    {
     "ename": "NameError",
     "evalue": "name 'PipeProcessingNode' is not defined",
     "output_type": "error",
     "traceback": [
      "\u001b[0;31m---------------------------------------------------------------------------\u001b[0m",
      "\u001b[0;31mNameError\u001b[0m                                 Traceback (most recent call last)",
      "\u001b[0;32m<ipython-input-1-32fcda0962d1>\u001b[0m in \u001b[0;36m<module>\u001b[0;34m()\u001b[0m\n\u001b[0;32m----> 1\u001b[0;31m \u001b[0;32mclass\u001b[0m \u001b[0mRESTObject\u001b[0m\u001b[0;34m(\u001b[0m\u001b[0mPipeProcessingNode\u001b[0m\u001b[0;34m)\u001b[0m\u001b[0;34m:\u001b[0m\u001b[0;34m\u001b[0m\u001b[0m\n\u001b[0m\u001b[1;32m      2\u001b[0m     \u001b[0;32mdef\u001b[0m \u001b[0mpipe_construct\u001b[0m\u001b[0;34m(\u001b[0m\u001b[0mself\u001b[0m\u001b[0;34m)\u001b[0m\u001b[0;34m:\u001b[0m\u001b[0;34m\u001b[0m\u001b[0m\n\u001b[1;32m      3\u001b[0m         \u001b[0mself\u001b[0m\u001b[0;34m.\u001b[0m\u001b[0maddPipe\u001b[0m\u001b[0;34m(\u001b[0m\u001b[0mname\u001b[0m\u001b[0;34m=\u001b[0m\u001b[0;34m'parameters'\u001b[0m\u001b[0;34m,\u001b[0m \u001b[0mtype\u001b[0m\u001b[0;34m=\u001b[0m\u001b[0mGeneralConfigure\u001b[0m\u001b[0;34m,\u001b[0m \u001b[0mio\u001b[0m\u001b[0;34m=\u001b[0m\u001b[0;34m'input'\u001b[0m\u001b[0;34m,\u001b[0m \u001b[0mexamples\u001b[0m\u001b[0;34m=\u001b[0m\u001b[0;34m[\u001b[0m\u001b[0;34m{\u001b[0m\u001b[0;34m}\u001b[0m\u001b[0;34m,\u001b[0m\u001b[0;34m]\u001b[0m\u001b[0;34m)\u001b[0m\u001b[0;34m\u001b[0m\u001b[0m\n\u001b[1;32m      4\u001b[0m         \u001b[0mself\u001b[0m\u001b[0;34m.\u001b[0m\u001b[0maddPipe\u001b[0m\u001b[0;34m(\u001b[0m\u001b[0mname\u001b[0m\u001b[0;34m=\u001b[0m\u001b[0;34m'get'\u001b[0m\u001b[0;34m,\u001b[0m \u001b[0mtype\u001b[0m\u001b[0;34m=\u001b[0m\u001b[0mRESTObject\u001b[0m\u001b[0;34m.\u001b[0m\u001b[0mget\u001b[0m\u001b[0;34m,\u001b[0m \u001b[0mio\u001b[0m\u001b[0;34m=\u001b[0m\u001b[0;34m'input'\u001b[0m\u001b[0;34m,\u001b[0m \u001b[0mexamples\u001b[0m\u001b[0;34m=\u001b[0m\u001b[0;34m[\u001b[0m\u001b[0;34m{\u001b[0m\u001b[0;34m}\u001b[0m\u001b[0;34m,\u001b[0m\u001b[0;34m{\u001b[0m\u001b[0;34m'property'\u001b[0m\u001b[0;34m:\u001b[0m\u001b[0;36m5\u001b[0m\u001b[0;34m}\u001b[0m\u001b[0;34m,\u001b[0m\u001b[0;34m{\u001b[0m\u001b[0;34m'mongo_query'\u001b[0m\u001b[0;34m:\u001b[0m\u001b[0;34m'mongo_style_query'\u001b[0m\u001b[0;34m}\u001b[0m\u001b[0;34m]\u001b[0m\u001b[0;34m)\u001b[0m\u001b[0;34m\u001b[0m\u001b[0m\n\u001b[1;32m      5\u001b[0m         \u001b[0mself\u001b[0m\u001b[0;34m.\u001b[0m\u001b[0maddPipe\u001b[0m\u001b[0;34m(\u001b[0m\u001b[0mname\u001b[0m\u001b[0;34m=\u001b[0m\u001b[0;34m'output'\u001b[0m\u001b[0;34m,\u001b[0m \u001b[0mtype\u001b[0m\u001b[0;34m=\u001b[0m\u001b[0mGeneralOutput\u001b[0m\u001b[0;34m,\u001b[0m \u001b[0mio\u001b[0m\u001b[0;34m=\u001b[0m\u001b[0;34m'output'\u001b[0m\u001b[0;34m,\u001b[0m \u001b[0mdependency\u001b[0m\u001b[0;34m=\u001b[0m\u001b[0;34m'get'\u001b[0m\u001b[0;34m,\u001b[0m\u001b[0mexamples\u001b[0m\u001b[0;34m=\u001b[0m\u001b[0;34m[\u001b[0m\u001b[0;34m{\u001b[0m\u001b[0;34m'id'\u001b[0m\u001b[0;34m:\u001b[0m\u001b[0;36m10\u001b[0m\u001b[0;34m,\u001b[0m\u001b[0;34m'p2'\u001b[0m\u001b[0;34m:\u001b[0m\u001b[0;34m'value2'\u001b[0m\u001b[0;34m}\u001b[0m\u001b[0;34m,\u001b[0m\u001b[0;34m]\u001b[0m\u001b[0;34m)\u001b[0m\u001b[0;34m\u001b[0m\u001b[0m\n",
      "\u001b[0;31mNameError\u001b[0m: name 'PipeProcessingNode' is not defined"
     ]
    }
   ],
   "source": [
    "class RESTObject(PipeProcessingNode):    \n",
    "    def pipe_construct(self):\n",
    "        self.addPipe(name='parameters', type=GeneralConfigure, io='input', examples=[{},])\n",
    "        self.addPipe(name='get', type=RESTObject.get, io='input', examples=[{},{'property':5},{'mongo_query':'mongo_style_query'}])\n",
    "        self.addPipe(name='output', type=GeneralOutput, io='output', dependency='get',examples=[{'id':10,'p2':'value2'},])\n",
    "        \n",
    "    def get(feature,context= None):\n",
    "        ## Easy -- find yourself\n",
    "        # expect, feture to be a single id. Return some json\n",
    "        ret = flex()\n",
    "        #ret.name ='name'\n",
    "        #ret.height ='tall'\n",
    "        if feature:\n",
    "            ret= feature\n",
    "        return feature*10\n",
    "\n",
    "#### Lets understand how a ProcessingNetwork uses a node:\n",
    "#\n",
    "# 1. Run with some hardcoded values to test\n",
    "#\n",
    "r = RESTObject(settings={'name':'travis'},\n",
    "               dependency_list={'get':5})\n",
    "print(r.process({}))\n",
    "\n",
    "#\n",
    "# 2. Run on some data that is in the array\n",
    "#\n",
    "r = RESTObject(settings={'name':'travis'},\n",
    "               dependency_list={'get':('input',)})\n",
    "print(r.process({'input':2}))\n",
    "\n",
    "\n",
    "#\n",
    "# 3. Run on some data buried deep in an array\n",
    "#\n",
    "r = RESTObject(settings={'name':'travis'},\n",
    "               dependency_list={'get':('input','x_values','height',)})\n",
    "print(r.process({'input':{'x_values':{'height':10}}}))\n",
    "\n",
    "#\n",
    "# 4. Flex example. Use flex to clean up dictionay readability\n",
    "#\n",
    "p = flex()\n",
    "p.settings.name='travis'\n",
    "p.dependencies.get = ('input','x_values','height',)\n",
    "r = RESTObject(settings=p.settings, dependency_list=p.dependencies)\n",
    "\n",
    "data = flex()\n",
    "data.input.x_values.height = 10\n",
    "print (r.process(data))\n",
    "\n",
    "#\n",
    "# 5. But... a processing network is an object that registers and manages these dependencies. In fact, it does graph analysis, \n",
    "# and all kinds of optimizations so that developers can dynamically include, swap, and play with dependencues, all in a \n",
    "# format can that be snapshotted with a dictionary.\n",
    "\n",
    "ndef = flex()\n",
    "data = flex()\n",
    "\n",
    "ndef.travis.type=RESTObject\n",
    "ndef.travis.dependencies.get=('input','x_values','height',)\n",
    "\n",
    "pn=ProcessingNetwork(ndef)\n",
    "data.input.x_values.height = 10\n",
    "print(pn.process(data))\n",
    "\n",
    "\n",
    "#\n",
    "# 6. Ok, this does not seem like it saves effort, until you start to chain objects\n",
    "# With two lines of code, we add a derivitive filter with a dependency on travis\n",
    "#\n",
    "\n",
    "ndef = flex()\n",
    "data = flex()\n",
    "\n",
    "ndef.travis.type=RESTObject\n",
    "ndef.travis.dependencies.get=('input','x_values','height',)\n",
    "ndef.brian.type=RESTObject\n",
    "ndef.brian.dependencies.get=('travis','output',)\n",
    "\n",
    "pn=ProcessingNetwork(ndef)\n",
    "data.input.x_values.height = 10\n",
    "print(pn.process(data))\n",
    "\n"
   ]
  },
  {
   "cell_type": "code",
   "execution_count": null,
   "metadata": {
    "collapsed": true
   },
   "outputs": [],
   "source": []
  }
 ],
 "metadata": {
  "kernelspec": {
   "display_name": "Python (tensorflow)",
   "language": "python",
   "name": "tensorflow"
  },
  "language_info": {
   "codemirror_mode": {
    "name": "ipython",
    "version": 3
   },
   "file_extension": ".py",
   "mimetype": "text/x-python",
   "name": "python",
   "nbconvert_exporter": "python",
   "pygments_lexer": "ipython3",
   "version": "3.6.6"
  }
 },
 "nbformat": 4,
 "nbformat_minor": 2
}
